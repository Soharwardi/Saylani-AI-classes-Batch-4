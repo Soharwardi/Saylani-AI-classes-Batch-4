{
 "cells": [
  {
   "cell_type": "code",
   "execution_count": 1,
   "id": "e6199831",
   "metadata": {},
   "outputs": [
    {
     "name": "stdout",
     "output_type": "stream",
     "text": [
      "Saylani Mass IT instutued. Bahadurabad Campus\n",
      "Subject: Artifical Intalligance and Data Scinces\n",
      "Class Days timing and Days: Tuesday and Friday 7 Pm till 10 Pm\n"
     ]
    }
   ],
   "source": [
    "card =\"\"\"Saylani Mass IT instutued. Bahadurabad Campus\n",
    "Subject: Artifical Intalligance and Data Scinces\n",
    "Class Days timing and Days: Tuesday and Friday 7 Pm till 10 Pm\"\"\"\n",
    "print(card)"
   ]
  },
  {
   "cell_type": "markdown",
   "id": "2fce7952",
   "metadata": {},
   "source": [
    "# Applying Functions on Card ... "
   ]
  },
  {
   "cell_type": "code",
   "execution_count": 3,
   "id": "dee4ec59",
   "metadata": {},
   "outputs": [
    {
     "name": "stdout",
     "output_type": "stream",
     "text": [
      "Saylani mass it instutued ... bahadurabad campus\n",
      "subject: artifical intalligance and data scinces\n",
      "class days timing and days: tuesday and friday 7 pm till 10 pm\n"
     ]
    }
   ],
   "source": [
    "print(card.capitalize()) # This funtion only shows the 1st word in capital from..."
   ]
  },
  {
   "cell_type": "code",
   "execution_count": 5,
   "id": "c2f0adee",
   "metadata": {},
   "outputs": [
    {
     "name": "stdout",
     "output_type": "stream",
     "text": [
      "saylani mass it instutued ... bahadurabad campus\n",
      "subject: artifical intalligance and data scinces\n",
      "class days timing and days: tuesday and friday 7 pm till 10 pm\n"
     ]
    }
   ],
   "source": [
    "print(card.casefold()) # this funtion coverts all latters into small latters same as lower funtion but more aggrasive."
   ]
  },
  {
   "cell_type": "code",
   "execution_count": 6,
   "id": "3ab49f47",
   "metadata": {},
   "outputs": [
    {
     "ename": "TypeError",
     "evalue": "center expected at least 1 argument, got 0",
     "output_type": "error",
     "traceback": [
      "\u001b[1;31m---------------------------------------------------------------------------\u001b[0m",
      "\u001b[1;31mTypeError\u001b[0m                                 Traceback (most recent call last)",
      "\u001b[1;32m~\\AppData\\Local\\Temp\\ipykernel_6192\\1589583869.py\u001b[0m in \u001b[0;36m<module>\u001b[1;34m\u001b[0m\n\u001b[1;32m----> 1\u001b[1;33m \u001b[0mprint\u001b[0m\u001b[1;33m(\u001b[0m\u001b[0mcard\u001b[0m\u001b[1;33m.\u001b[0m\u001b[0mcenter\u001b[0m\u001b[1;33m(\u001b[0m\u001b[1;33m)\u001b[0m\u001b[1;33m)\u001b[0m\u001b[1;33m\u001b[0m\u001b[1;33m\u001b[0m\u001b[0m\n\u001b[0m",
      "\u001b[1;31mTypeError\u001b[0m: center expected at least 1 argument, got 0"
     ]
    }
   ],
   "source": [
    "print(card.center())"
   ]
  },
  {
   "cell_type": "code",
   "execution_count": 7,
   "id": "a3d7777c",
   "metadata": {},
   "outputs": [
    {
     "name": "stdout",
     "output_type": "stream",
     "text": [
      "Saylani Mass IT instutued ... Bahadurabad Campus\n",
      "Subject: Artifical Intalligance and Data Scinces\n",
      "Class Days timing and Days: Tuesday and Friday 7 Pm till 10 Pm\n"
     ]
    }
   ],
   "source": [
    "print(card.center(7))"
   ]
  },
  {
   "cell_type": "code",
   "execution_count": 9,
   "id": "b9bbc809",
   "metadata": {},
   "outputs": [
    {
     "name": "stdout",
     "output_type": "stream",
     "text": [
      "Saylani Mass IT instutued ... Bahadurabad Campus\n",
      "Subject: Artifical Intalligance and Data Scinces\n",
      "Class Days timing and Days: Tuesday and Friday 7 Pm till 10 Pm\n"
     ]
    }
   ],
   "source": [
    "print(card.center(74)) # No idea what this function does...."
   ]
  },
  {
   "cell_type": "code",
   "execution_count": 14,
   "id": "2dbf0be9",
   "metadata": {},
   "outputs": [
    {
     "ename": "TypeError",
     "evalue": "The fill character must be exactly one character long",
     "output_type": "error",
     "traceback": [
      "\u001b[1;31m---------------------------------------------------------------------------\u001b[0m",
      "\u001b[1;31mTypeError\u001b[0m                                 Traceback (most recent call last)",
      "\u001b[1;32m~\\AppData\\Local\\Temp\\ipykernel_6192\\1831119427.py\u001b[0m in \u001b[0;36m<module>\u001b[1;34m\u001b[0m\n\u001b[0;32m      1\u001b[0m \u001b[0mmsg\u001b[0m\u001b[1;33m=\u001b[0m\u001b[1;34m\"Hello World\"\u001b[0m\u001b[1;33m\u001b[0m\u001b[1;33m\u001b[0m\u001b[0m\n\u001b[1;32m----> 2\u001b[1;33m \u001b[0mprint\u001b[0m\u001b[1;33m(\u001b[0m\u001b[0mmsg\u001b[0m\u001b[1;33m.\u001b[0m\u001b[0mcenter\u001b[0m\u001b[1;33m(\u001b[0m\u001b[1;36m5\u001b[0m\u001b[1;33m,\u001b[0m\u001b[1;34m'***'\u001b[0m\u001b[1;33m)\u001b[0m\u001b[1;33m)\u001b[0m\u001b[1;33m\u001b[0m\u001b[1;33m\u001b[0m\u001b[0m\n\u001b[0m",
      "\u001b[1;31mTypeError\u001b[0m: The fill character must be exactly one character long"
     ]
    }
   ],
   "source": [
    "msg=\"Hello World\"\n",
    "print(msg.center(5,'***'))"
   ]
  },
  {
   "cell_type": "code",
   "execution_count": 20,
   "id": "e56fabe5",
   "metadata": {},
   "outputs": [
    {
     "name": "stdout",
     "output_type": "stream",
     "text": [
      "3\n"
     ]
    }
   ],
   "source": [
    "print(msg.count('l')) # this funtion count the given word or alphabet "
   ]
  },
  {
   "cell_type": "code",
   "execution_count": 21,
   "id": "886e0afc",
   "metadata": {},
   "outputs": [
    {
     "name": "stdout",
     "output_type": "stream",
     "text": [
      "b'Saylani Mass IT instutued ... Bahadurabad Campus\\nSubject: Artifical Intalligance and Data Scinces\\nClass Days timing and Days: Tuesday and Friday 7 Pm till 10 Pm'\n"
     ]
    }
   ],
   "source": [
    "print(card.encode()) # this funtion shows hidden different fuction...."
   ]
  },
  {
   "cell_type": "code",
   "execution_count": 24,
   "id": "dc596c95",
   "metadata": {},
   "outputs": [
    {
     "name": "stdout",
     "output_type": "stream",
     "text": [
      "True\n"
     ]
    }
   ],
   "source": [
    "print(card.endswith(\"Pm\")) # this funtion is use to search certain charector or charectors."
   ]
  },
  {
   "cell_type": "code",
   "execution_count": 30,
   "id": "8cce9e90",
   "metadata": {},
   "outputs": [
    {
     "name": "stdout",
     "output_type": "stream",
     "text": [
      "Saylani Mass IT instutued ... Bahadurabad Campus\n",
      "Subject: Artifical Intalligance and Data Scinces\n",
      "Class Days timing and Days: Tuesday and Friday 7 Pm till 10 Pm\n"
     ]
    }
   ],
   "source": [
    "print(card.expandtabs(0)) # This funtion is used with \\t to specify distance between words "
   ]
  },
  {
   "cell_type": "code",
   "execution_count": 33,
   "id": "38f0964a",
   "metadata": {},
   "outputs": [
    {
     "name": "stdout",
     "output_type": "stream",
     "text": [
      "8\n"
     ]
    }
   ],
   "source": [
    "print(card.find(\"Mass\")) # This is used to find word alphabet or integar or Value....Why it is locating Single words."
   ]
  },
  {
   "cell_type": "code",
   "execution_count": 12,
   "id": "add0dce2",
   "metadata": {},
   "outputs": [
    {
     "name": "stdout",
     "output_type": "stream",
     "text": [
      "Saylani Mass IT instutued ... Bahadurabad Campus\n",
      "Subject: Artifical Intalligance and Data Scinces\n",
      "Class Days timing and Days: Tuesday and Friday 7 Pm till 10 Pm\n"
     ]
    }
   ],
   "source": [
    "print(card.format()) # this method formats a word or int use for replacement"
   ]
  },
  {
   "cell_type": "code",
   "execution_count": 14,
   "id": "cc5bd129",
   "metadata": {},
   "outputs": [
    {
     "name": "stdout",
     "output_type": "stream",
     "text": [
      "Saylani Mass IT instutued ... Bahadurabad Campus\n",
      "Subject: Artifical Intalligance and Data Scinces\n",
      "Class Days timing and Days: Tuesday and Friday 7 Pm till 10 Pm\n"
     ]
    }
   ],
   "source": [
    "print(card.format()) # No idea what this function does"
   ]
  },
  {
   "cell_type": "code",
   "execution_count": 21,
   "id": "be5917fe",
   "metadata": {},
   "outputs": [
    {
     "name": "stdout",
     "output_type": "stream",
     "text": [
      "5 is lower then 10\n"
     ]
    }
   ],
   "source": [
    "d = {\n",
    "    'a': 5,\n",
    "    'b': 10\n",
    "}\n",
    "print('{a} is lower then {b}'.format(**d)) # No idea what this function does"
   ]
  },
  {
   "cell_type": "code",
   "execution_count": 22,
   "id": "360002dc",
   "metadata": {},
   "outputs": [
    {
     "name": "stdout",
     "output_type": "stream",
     "text": [
      "5 is lower then 10\n"
     ]
    }
   ],
   "source": [
    "d = {\n",
    "    'a': 5,\n",
    "    'b': 10\n",
    "}\n",
    "print('{a} is lower then {b}'.format_map(d)) # No idea what this function does"
   ]
  },
  {
   "cell_type": "code",
   "execution_count": 24,
   "id": "18090666",
   "metadata": {},
   "outputs": [
    {
     "name": "stdout",
     "output_type": "stream",
     "text": [
      "False\n"
     ]
    }
   ],
   "source": [
    "print(card.isalnum()) # returns True if all the characters are alphanumeric"
   ]
  },
  {
   "cell_type": "code",
   "execution_count": 27,
   "id": "cd5955cb",
   "metadata": {},
   "outputs": [
    {
     "ename": "NameError",
     "evalue": "name 'w' is not defined",
     "output_type": "error",
     "traceback": [
      "\u001b[1;31m---------------------------------------------------------------------------\u001b[0m",
      "\u001b[1;31mNameError\u001b[0m                                 Traceback (most recent call last)",
      "\u001b[1;32m~\\AppData\\Local\\Temp\\ipykernel_2116\\470676918.py\u001b[0m in \u001b[0;36m<module>\u001b[1;34m\u001b[0m\n\u001b[1;32m----> 1\u001b[1;33m \u001b[0mprint\u001b[0m\u001b[1;33m(\u001b[0m\u001b[0mcard\u001b[0m\u001b[1;33m.\u001b[0m\u001b[0mindex\u001b[0m\u001b[1;33m(\u001b[0m\u001b[0mw\u001b[0m\u001b[1;33m)\u001b[0m\u001b[1;33m)\u001b[0m\u001b[1;33m\u001b[0m\u001b[1;33m\u001b[0m\u001b[0m\n\u001b[0m",
      "\u001b[1;31mNameError\u001b[0m: name 'w' is not defined"
     ]
    }
   ],
   "source": [
    "print(card.index(w)) # ask in calss"
   ]
  },
  {
   "cell_type": "code",
   "execution_count": 29,
   "id": "56521dfe",
   "metadata": {},
   "outputs": [
    {
     "data": {
      "text/plain": [
       "8"
      ]
     },
     "execution_count": 29,
     "metadata": {},
     "output_type": "execute_result"
    }
   ],
   "source": [
    "card.index(\"Mass\") # it find words and int and lets you know the numaric position of that word or int"
   ]
  },
  {
   "cell_type": "code",
   "execution_count": 3,
   "id": "d48bd11d",
   "metadata": {},
   "outputs": [
    {
     "name": "stdout",
     "output_type": "stream",
     "text": [
      "Saylani        Mass IT instutued ... Bahadurabad Campus\n",
      "Subject: Artifical Intalligance and Data Scinces\n",
      "Class Days timing and Days: Tuesday and Friday 7 Pm till 10 Pm\n"
     ]
    }
   ],
   "source": [
    "print(card)"
   ]
  },
  {
   "cell_type": "code",
   "execution_count": 5,
   "id": "60aba98a",
   "metadata": {},
   "outputs": [
    {
     "name": "stdout",
     "output_type": "stream",
     "text": [
      "False\n"
     ]
    }
   ],
   "source": [
    "print(card.isalpha()) # returns True if all the characters are alphabet letters (a-z)."
   ]
  },
  {
   "cell_type": "code",
   "execution_count": 6,
   "id": "93ccb530",
   "metadata": {},
   "outputs": [
    {
     "name": "stdout",
     "output_type": "stream",
     "text": [
      "True\n"
     ]
    }
   ],
   "source": [
    "print(card.isascii()) #  returns True if all the characters are isascii alphabet letters (a-z)."
   ]
  },
  {
   "cell_type": "code",
   "execution_count": 7,
   "id": "b2d466a4",
   "metadata": {},
   "outputs": [
    {
     "name": "stdout",
     "output_type": "stream",
     "text": [
      "False\n"
     ]
    }
   ],
   "source": [
    "print(card.isdecimal()) # returns a Boolean value TRUE if the input string contains all decimal characters else returns FALSE."
   ]
  },
  {
   "cell_type": "code",
   "execution_count": 8,
   "id": "a19dd11e",
   "metadata": {},
   "outputs": [
    {
     "name": "stdout",
     "output_type": "stream",
     "text": [
      "False\n"
     ]
    }
   ],
   "source": [
    "print(card.isdigit()) # returns True if all the characters are digits, otherwise False"
   ]
  },
  {
   "cell_type": "code",
   "execution_count": 9,
   "id": "f00b06e0",
   "metadata": {},
   "outputs": [
    {
     "name": "stdout",
     "output_type": "stream",
     "text": [
      "False\n"
     ]
    }
   ],
   "source": [
    "print(card.isidentifier()) # returns True if the string is a valid identifier, otherwise False"
   ]
  },
  {
   "cell_type": "code",
   "execution_count": 3,
   "id": "dac82ef3",
   "metadata": {},
   "outputs": [
    {
     "name": "stdout",
     "output_type": "stream",
     "text": [
      "Saylani        Mass IT instutued ... Bahadurabad Campus\n",
      "Subject: Artifical Intalligance and Data Scinces\n",
      "Class Days timing and Days: Tuesday and Friday 7 Pm till 10 Pm\n"
     ]
    }
   ],
   "source": [
    "print(card)"
   ]
  },
  {
   "cell_type": "code",
   "execution_count": 4,
   "id": "a8c560ce",
   "metadata": {},
   "outputs": [
    {
     "name": "stdout",
     "output_type": "stream",
     "text": [
      "False\n"
     ]
    }
   ],
   "source": [
    "print(card.islower()) #returns True if all the characters are in lower case, otherwise False. "
   ]
  },
  {
   "cell_type": "code",
   "execution_count": 5,
   "id": "5e65d36d",
   "metadata": {},
   "outputs": [
    {
     "name": "stdout",
     "output_type": "stream",
     "text": [
      "False\n"
     ]
    }
   ],
   "source": [
    "print(card.isprintable()) #returns True if all the characters are printable, otherwise False"
   ]
  },
  {
   "cell_type": "code",
   "execution_count": 6,
   "id": "4199535f",
   "metadata": {},
   "outputs": [
    {
     "name": "stdout",
     "output_type": "stream",
     "text": [
      "False\n"
     ]
    }
   ],
   "source": [
    "print(card.isnumeric()) #  returns True if all the characters are numeric (0-9), otherwise False"
   ]
  },
  {
   "cell_type": "code",
   "execution_count": 7,
   "id": "c081f692",
   "metadata": {},
   "outputs": [
    {
     "name": "stdout",
     "output_type": "stream",
     "text": [
      "False\n"
     ]
    }
   ],
   "source": [
    "print(card.isspace()) #  returns True if all the characters in a string are whitespaces, otherwise False."
   ]
  },
  {
   "cell_type": "code",
   "execution_count": 8,
   "id": "f9f19e1e",
   "metadata": {},
   "outputs": [
    {
     "name": "stdout",
     "output_type": "stream",
     "text": [
      "False\n"
     ]
    }
   ],
   "source": [
    "print(card.istitle()) # returns True if the first character of the string is in uppercase and the rest are in lowercase."
   ]
  },
  {
   "cell_type": "code",
   "execution_count": 9,
   "id": "ab976731",
   "metadata": {},
   "outputs": [
    {
     "name": "stdout",
     "output_type": "stream",
     "text": [
      "False\n"
     ]
    }
   ],
   "source": [
    "print(card.isupper()) # returns True if all the characters are in upper case, otherwise False."
   ]
  },
  {
   "cell_type": "code",
   "execution_count": 10,
   "id": "e2dd92c8",
   "metadata": {},
   "outputs": [
    {
     "ename": "TypeError",
     "evalue": "str.join() takes exactly one argument (0 given)",
     "output_type": "error",
     "traceback": [
      "\u001b[1;31m---------------------------------------------------------------------------\u001b[0m",
      "\u001b[1;31mTypeError\u001b[0m                                 Traceback (most recent call last)",
      "\u001b[1;32m~\\AppData\\Local\\Temp\\ipykernel_12068\\2730815948.py\u001b[0m in \u001b[0;36m<module>\u001b[1;34m\u001b[0m\n\u001b[1;32m----> 1\u001b[1;33m \u001b[0mprint\u001b[0m\u001b[1;33m(\u001b[0m\u001b[0mcard\u001b[0m\u001b[1;33m.\u001b[0m\u001b[0mjoin\u001b[0m\u001b[1;33m(\u001b[0m\u001b[1;33m)\u001b[0m\u001b[1;33m)\u001b[0m\u001b[1;33m\u001b[0m\u001b[1;33m\u001b[0m\u001b[0m\n\u001b[0m",
      "\u001b[1;31mTypeError\u001b[0m: str.join() takes exactly one argument (0 given)"
     ]
    }
   ],
   "source": [
    "print(card.join()) # learn in class"
   ]
  },
  {
   "cell_type": "code",
   "execution_count": 9,
   "id": "ae1cefa6",
   "metadata": {},
   "outputs": [
    {
     "name": "stdout",
     "output_type": "stream",
     "text": [
      "Saylani Mass IT instutued. Bahadurabad Campus\n",
      "Subject: Artifical Intalligance and Data Scinces\n",
      "Class Days timing and Days: Tuesday and Friday 7 Pm till 10 Pm\n"
     ]
    }
   ],
   "source": [
    "print(card.ljust(5)) #returns a left justified string with the fillchar specified as an argument in place of blank spaces."
   ]
  },
  {
   "cell_type": "code",
   "execution_count": 20,
   "id": "b66c6258",
   "metadata": {},
   "outputs": [
    {
     "name": "stdout",
     "output_type": "stream",
     "text": [
      "ABCD  EFDG\n"
     ]
    }
   ],
   "source": [
    "y = \"ABCD\" # Ijust gives space from left side how much space do you need..\n",
    "x = y.ljust(5)\n",
    "print (x,\"EFDG\")"
   ]
  },
  {
   "cell_type": "code",
   "execution_count": 7,
   "id": "2308f50b",
   "metadata": {},
   "outputs": [
    {
     "name": "stdout",
     "output_type": "stream",
     "text": [
      "saylani mass it instutued. bahadurabad campus\n",
      "subject: artifical intalligance and data scinces\n",
      "class days timing and days: tuesday and friday 7 pm till 10 pm\n"
     ]
    }
   ],
   "source": [
    "print(card.lower()) # trun every word in lower case"
   ]
  },
  {
   "cell_type": "code",
   "execution_count": 8,
   "id": "3b695e1b",
   "metadata": {},
   "outputs": [
    {
     "name": "stdout",
     "output_type": "stream",
     "text": [
      "Saylani Mass IT instutued. Bahadurabad Campus\n",
      "Subject: Artifical Intalligance and Data Scinces\n",
      "Class Days timing and Days: Tuesday and Friday 7 Pm till 10 Pm\n"
     ]
    }
   ],
   "source": [
    "print(card.lstrip(\"*\")) # ask in class"
   ]
  },
  {
   "cell_type": "code",
   "execution_count": 28,
   "id": "fee282be",
   "metadata": {},
   "outputs": [
    {
     "name": "stdout",
     "output_type": "stream",
     "text": [
      "{115: 98}\n"
     ]
    }
   ],
   "source": [
    "print(card.maketrans(\"s\",\"b\")) # ask in class"
   ]
  },
  {
   "cell_type": "code",
   "execution_count": 30,
   "id": "b61bc7e1",
   "metadata": {},
   "outputs": [
    {
     "name": "stdout",
     "output_type": "stream",
     "text": [
      "('Saylani        ', 'Mass', ' IT instutued ... Bahadurabad Campus\\nSubject: Artifical Intalligance and Data Scinces\\nClass Days timing and Days: Tuesday and Friday 7 Pm till 10 Pm')\n"
     ]
    }
   ],
   "source": [
    "print(card.partition(\"Mass\")) # ask in class"
   ]
  },
  {
   "cell_type": "code",
   "execution_count": 32,
   "id": "71ac8d0b",
   "metadata": {},
   "outputs": [
    {
     "name": "stdout",
     "output_type": "stream",
     "text": [
      "        Mass IT instutued ... Bahadurabad Campus\n",
      "Subject: Artifical Intalligance and Data Scinces\n",
      "Class Days timing and Days: Tuesday and Friday 7 Pm till 10 Pm\n"
     ]
    }
   ],
   "source": [
    "print(card.removeprefix(\"Saylani\")) # this remove words from start"
   ]
  },
  {
   "cell_type": "code",
   "execution_count": 6,
   "id": "f37a4163",
   "metadata": {},
   "outputs": [
    {
     "name": "stdout",
     "output_type": "stream",
     "text": [
      "Saylani Mass IT instutued. Bahadurabad Campus\n",
      "Subject: Artifical Intalligance and Data Scinces\n",
      "Class Days timing and Days: Tuesday and Friday 7 Pm till \n"
     ]
    }
   ],
   "source": [
    "print(card.removesuffix(\"10 Pm\"))# this remove words from end"
   ]
  },
  {
   "cell_type": "code",
   "execution_count": 5,
   "id": "4a973933",
   "metadata": {},
   "outputs": [
    {
     "name": "stdout",
     "output_type": "stream",
     "text": [
      "Saylani Mass IT instutued. Gulstion Campus\n",
      "Subject: Artifical Intalligance and Data Scinces\n",
      "Class Days timing and Days: Tuesday and Friday 7 Pm till 10 Pm\n"
     ]
    }
   ],
   "source": [
    "print(card.replace(\"Bahadurabad Campus\", \"Gulstion Campus\")) # This replace a words or phrase (String method)"
   ]
  },
  {
   "cell_type": "code",
   "execution_count": 44,
   "id": "aa5ada1c",
   "metadata": {},
   "outputs": [
    {
     "name": "stdout",
     "output_type": "stream",
     "text": [
      "165\n"
     ]
    }
   ],
   "source": [
    "print(card.rfind('Pm')) # this finds the words (does not work on Int)"
   ]
  },
  {
   "cell_type": "code",
   "execution_count": 46,
   "id": "850995dc",
   "metadata": {},
   "outputs": [
    {
     "name": "stdout",
     "output_type": "stream",
     "text": [
      "127\n"
     ]
    }
   ],
   "source": [
    "print(card.rindex(\"Days\")) # This find the index number ..... What is the difference in INDEX and RINDEX"
   ]
  },
  {
   "cell_type": "code",
   "execution_count": 4,
   "id": "e4158c18",
   "metadata": {},
   "outputs": [
    {
     "name": "stdout",
     "output_type": "stream",
     "text": [
      "Saylani Mass IT instutued. Bahadurabad Campus\n",
      "Subject: Artifical Intalligance and Data Scinces\n",
      "Class Days timing and Days: Tuesday and Friday 7 Pm till 10 Pm\n"
     ]
    }
   ],
   "source": [
    "print(card.rjust(3)) # will right align the string, using a specified character (space is default) as the fill character"
   ]
  },
  {
   "cell_type": "code",
   "execution_count": 12,
   "id": "89bd9c4e",
   "metadata": {},
   "outputs": [
    {
     "name": "stdout",
     "output_type": "stream",
     "text": [
      "('Saylani Mass IT instutued. Bahadurabad Campus\\n', 'Subject', ': Artifical Intalligance and Data Scinces\\nClass Days timing and Days: Tuesday and Friday 7 Pm till 10 Pm')\n"
     ]
    }
   ],
   "source": [
    "print(card.rpartition(\"Subject\")) # searches for the last occurrence of a specified string, & splits the string \n",
    "# into a tuple containing three elements"
   ]
  },
  {
   "cell_type": "code",
   "execution_count": 13,
   "id": "77223943",
   "metadata": {},
   "outputs": [
    {
     "name": "stdout",
     "output_type": "stream",
     "text": [
      "['Saylani Mass IT instutued. Bahadurabad Campus\\n', ': Artifical Intalligance and Data Scinces\\nClass Days timing and Days: Tuesday and Friday 7 Pm till 10 Pm']\n"
     ]
    }
   ],
   "source": [
    "print(card.rsplit(\"Subject\")) # splits a string into a list, starting from the right."
   ]
  },
  {
   "cell_type": "code",
   "execution_count": 15,
   "id": "4cb97f2a",
   "metadata": {},
   "outputs": [
    {
     "name": "stdout",
     "output_type": "stream",
     "text": [
      "Saylani Mass IT instutued. Bahadurabad Campus\n",
      "Subject: Artifical Intalligance and Data Scinces\n",
      "Class Days timing and Days: Tuesday and Friday 7 Pm till 10 Pm\n"
     ]
    }
   ],
   "source": [
    "print(card.rstrip(\"Mass\")) # splits a string into a list, starting from the right."
   ]
  },
  {
   "cell_type": "code",
   "execution_count": 16,
   "id": "07187cbc",
   "metadata": {},
   "outputs": [
    {
     "name": "stdout",
     "output_type": "stream",
     "text": [
      "['Saylani ', ' IT instutued. Bahadurabad Campus\\nSubject: Artifical Intalligance and Data Scinces\\nClass Days timing and Days: Tuesday and Friday 7 Pm till 10 Pm']\n"
     ]
    }
   ],
   "source": [
    "print(card.split('Mass')) # splits a string into a list, starting from the left."
   ]
  },
  {
   "cell_type": "code",
   "execution_count": 20,
   "id": "0104ec98",
   "metadata": {},
   "outputs": [
    {
     "name": "stdout",
     "output_type": "stream",
     "text": [
      "['Saylani Mass IT instutued. Bahadurabad Campus\\n', 'Subject: Artifical Intalligance and Data Scinces\\n', 'Class Days timing and Days: Tuesday and Friday 7 Pm till 10 Pm']\n"
     ]
    }
   ],
   "source": [
    "print(card.splitlines(5)) # splits a string into a list. The splitting is done at line breaks"
   ]
  },
  {
   "cell_type": "code",
   "execution_count": 21,
   "id": "299f0d8c",
   "metadata": {},
   "outputs": [
    {
     "name": "stdout",
     "output_type": "stream",
     "text": [
      "True\n"
     ]
    }
   ],
   "source": [
    "print(card.startswith(\"Saylani\")) # returns True if a string starts with the specified prefix(string). If not, it returns False"
   ]
  },
  {
   "cell_type": "code",
   "execution_count": 23,
   "id": "68e31ddc",
   "metadata": {},
   "outputs": [
    {
     "name": "stdout",
     "output_type": "stream",
     "text": [
      "Saylani Mass IT instutued. Bahadurabad Campus\n",
      "Subject: Artifical Intalligance and Data Scinces\n",
      "Class Days timing and Days: Tuesday and Friday 7 Pm till 10 Pm\n"
     ]
    }
   ],
   "source": [
    "print(card.strip()) # removes or truncates the given characters from the beginning and the end of the original string"
   ]
  },
  {
   "cell_type": "code",
   "execution_count": 24,
   "id": "3b306d3b",
   "metadata": {},
   "outputs": [
    {
     "name": "stdout",
     "output_type": "stream",
     "text": [
      "sAYLANI mASS it INSTUTUED. bAHADURABAD cAMPUS\n",
      "sUBJECT: aRTIFICAL iNTALLIGANCE AND dATA sCINCES\n",
      "cLASS dAYS TIMING AND dAYS: tUESDAY AND fRIDAY 7 pM TILL 10 pM\n"
     ]
    }
   ],
   "source": [
    "print(card.swapcase()) # returns a string where all the upper case letters are lower case and vice versa"
   ]
  },
  {
   "cell_type": "code",
   "execution_count": 25,
   "id": "f5ad177b",
   "metadata": {},
   "outputs": [
    {
     "name": "stdout",
     "output_type": "stream",
     "text": [
      "Saylani Mass It Instutued. Bahadurabad Campus\n",
      "Subject: Artifical Intalligance And Data Scinces\n",
      "Class Days Timing And Days: Tuesday And Friday 7 Pm Till 10 Pm\n"
     ]
    }
   ],
   "source": [
    "print(card.title()) # change the initial character in each word to Uppercase and the subsequent characters to Lowercase and \n",
    "# then returns a new string"
   ]
  },
  {
   "cell_type": "code",
   "execution_count": 27,
   "id": "ae471ff4",
   "metadata": {},
   "outputs": [
    {
     "name": "stdout",
     "output_type": "stream",
     "text": [
      "Saylani Mass IT instutued. Bahadurabad Campus\n",
      "Subject: Artifical Intalligance and Data Scinces\n",
      "Class Days timing and Days: Tuesday and Friday 7 Pm till 10 Pm\n"
     ]
    }
   ],
   "source": [
    "print(card.translate(\"Mass\")) # returns a string where some specified characters are replaced with the\n",
    "# character described in a dictionary, or in a mapping table"
   ]
  },
  {
   "cell_type": "code",
   "execution_count": 28,
   "id": "a06ced0a",
   "metadata": {},
   "outputs": [
    {
     "name": "stdout",
     "output_type": "stream",
     "text": [
      "SAYLANI MASS IT INSTUTUED. BAHADURABAD CAMPUS\n",
      "SUBJECT: ARTIFICAL INTALLIGANCE AND DATA SCINCES\n",
      "CLASS DAYS TIMING AND DAYS: TUESDAY AND FRIDAY 7 PM TILL 10 PM\n"
     ]
    }
   ],
   "source": [
    "print(card.upper()) #  convert lowercase letters in a string to uppercase"
   ]
  },
  {
   "cell_type": "code",
   "execution_count": 30,
   "id": "8c33c692",
   "metadata": {},
   "outputs": [
    {
     "name": "stdout",
     "output_type": "stream",
     "text": [
      "Saylani Mass IT instutued. Bahadurabad Campus\n",
      "Subject: Artifical Intalligance and Data Scinces\n",
      "Class Days timing and Days: Tuesday and Friday 7 Pm till 10 Pm\n"
     ]
    }
   ],
   "source": [
    "print(card.zfill(4)) # adds zeros (0) at the beginning of the string, until it reaches the specified length"
   ]
  }
 ],
 "metadata": {
  "kernelspec": {
   "display_name": "Python 3 (ipykernel)",
   "language": "python",
   "name": "python3"
  },
  "language_info": {
   "codemirror_mode": {
    "name": "ipython",
    "version": 3
   },
   "file_extension": ".py",
   "mimetype": "text/x-python",
   "name": "python",
   "nbconvert_exporter": "python",
   "pygments_lexer": "ipython3",
   "version": "3.9.13"
  }
 },
 "nbformat": 4,
 "nbformat_minor": 5
}
