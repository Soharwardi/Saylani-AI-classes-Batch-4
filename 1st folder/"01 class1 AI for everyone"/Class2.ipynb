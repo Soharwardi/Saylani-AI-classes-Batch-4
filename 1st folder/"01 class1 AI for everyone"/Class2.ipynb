{
 "cells": [
  {
   "cell_type": "code",
   "execution_count": 4,
   "id": "930db441",
   "metadata": {},
   "outputs": [
    {
     "name": "stdout",
     "output_type": "stream",
     "text": [
      "Help on built-in function print in module builtins:\n",
      "\n",
      "print(...)\n",
      "    print(value, ..., sep=' ', end='\\n', file=sys.stdout, flush=False)\n",
      "    \n",
      "    Prints the values to a stream, or to sys.stdout by default.\n",
      "    Optional keyword arguments:\n",
      "    file:  a file-like object (stream); defaults to the current sys.stdout.\n",
      "    sep:   string inserted between values, default a space.\n",
      "    end:   string appended after the last value, default a newline.\n",
      "    flush: whether to forcibly flush the stream.\n",
      "\n"
     ]
    }
   ],
   "source": [
    "help(print)"
   ]
  },
  {
   "cell_type": "code",
   "execution_count": 7,
   "id": "4fa42bc5",
   "metadata": {},
   "outputs": [
    {
     "name": "stdout",
     "output_type": "stream",
     "text": [
      "A B C D\n"
     ]
    }
   ],
   "source": [
    "print(\"A\",\"B\",\"C\",\"D\")"
   ]
  },
  {
   "cell_type": "code",
   "execution_count": 8,
   "id": "63f123a0",
   "metadata": {},
   "outputs": [
    {
     "name": "stdout",
     "output_type": "stream",
     "text": [
      "ABCD\n"
     ]
    }
   ],
   "source": [
    "print (\"A\",\"B\",\"C\",\"D\", sep='')"
   ]
  },
  {
   "cell_type": "code",
   "execution_count": 12,
   "id": "9f9df720",
   "metadata": {},
   "outputs": [
    {
     "name": "stdout",
     "output_type": "stream",
     "text": [
      "A-_-_-_-_B-_-_-_-_C-_-_-_-_D\n"
     ]
    }
   ],
   "source": [
    "print(\"A\",\"B\",\"C\",\"D\", sep=\"-_-_-_-_\")"
   ]
  },
  {
   "cell_type": "code",
   "execution_count": 13,
   "id": "500fecbd",
   "metadata": {},
   "outputs": [
    {
     "name": "stdout",
     "output_type": "stream",
     "text": [
      "A//////\\\\\\B//////\\\\\\C//////\\\\\\D\n"
     ]
    }
   ],
   "source": [
    "print(\"A\" , \"B\" , \"C\" , \"D\" , sep=\"//////\\\\\\\\\\\\\")"
   ]
  },
  {
   "cell_type": "code",
   "execution_count": 14,
   "id": "69248b51",
   "metadata": {},
   "outputs": [
    {
     "name": "stdout",
     "output_type": "stream",
     "text": [
      " A%%%%% B%%%%% C%%%%% D\n"
     ]
    }
   ],
   "source": [
    "print(\" A\",\" B\",\" C\",\" D\", sep=\"%%%%%\")"
   ]
  },
  {
   "cell_type": "code",
   "execution_count": 15,
   "id": "a784b42c",
   "metadata": {},
   "outputs": [
    {
     "name": "stdout",
     "output_type": "stream",
     "text": [
      " A ****** B ****** C ****** D \n"
     ]
    }
   ],
   "source": [
    "print(\" A \",\" B \",\" C \",\" D \", sep=\"******\")"
   ]
  },
  {
   "cell_type": "code",
   "execution_count": 16,
   "id": "f461bfdf",
   "metadata": {},
   "outputs": [
    {
     "name": "stdout",
     "output_type": "stream",
     "text": [
      "1 2 3 4 A B\n"
     ]
    }
   ],
   "source": [
    "print(1,2,3,4,\"A\",\"B\")"
   ]
  },
  {
   "cell_type": "code",
   "execution_count": 18,
   "id": "2bfae9f6",
   "metadata": {},
   "outputs": [
    {
     "name": "stdout",
     "output_type": "stream",
     "text": [
      "1 ====== 2 ====== 3 ====== 4 ====== A ====== B\n"
     ]
    }
   ],
   "source": [
    "print(1,2,3,4,\"A\",\"B\", sep=\" ====== \")"
   ]
  },
  {
   "cell_type": "code",
   "execution_count": 20,
   "id": "8322e7c4",
   "metadata": {},
   "outputs": [
    {
     "name": "stdout",
     "output_type": "stream",
     "text": [
      "line 1 A\n",
      "Line 2 B\n",
      "Line 3 C\n"
     ]
    }
   ],
   "source": [
    "print (\"line 1\", \"A\")\n",
    "print (\"Line 2\",\"B\")\n",
    "print (\"Line 3\",\"C\")"
   ]
  },
  {
   "cell_type": "code",
   "execution_count": 21,
   "id": "178ea0a3",
   "metadata": {},
   "outputs": [
    {
     "name": "stdout",
     "output_type": "stream",
     "text": [
      "Line 1 A\n",
      "Line 2 A\n",
      "Line 3 A\n"
     ]
    }
   ],
   "source": [
    "print (\"Line 1\",\"A\", end='\\n')\n",
    "print (\"Line 2\",\"A\", end='\\n')\n",
    "print (\"Line 3\",\"A\", end='\\n')"
   ]
  },
  {
   "cell_type": "code",
   "execution_count": 28,
   "id": "b5d38f2e",
   "metadata": {},
   "outputs": [
    {
     "name": "stdout",
     "output_type": "stream",
     "text": [
      "Line 1<>\n",
      "Line 2><\n",
      "Line 3<^>\n"
     ]
    }
   ],
   "source": [
    "print (\"Line 1\", end='<>\\n')\n",
    "print ('Line 2', end='><\\n')\n",
    "print ('Line 3', end='<^>\\n')"
   ]
  },
  {
   "cell_type": "code",
   "execution_count": 24,
   "id": "290a395e",
   "metadata": {},
   "outputs": [
    {
     "name": "stdout",
     "output_type": "stream",
     "text": [
      " creating a triangle\n",
      "   /|\n",
      "  / |\n",
      " /  |\n",
      "/___|\n"
     ]
    }
   ],
   "source": [
    "print (' creating a triangle')\n",
    "print (\"   /|\")\n",
    "print (\"  / |\")\n",
    "print (\" /  |\")\n",
    "print (\"/___|\")"
   ]
  },
  {
   "cell_type": "code",
   "execution_count": 30,
   "id": "e43ceca2",
   "metadata": {},
   "outputs": [
    {
     "name": "stdout",
     "output_type": "stream",
     "text": [
      "A)(D)(G  <>A}{D}{G  \\/A][D][G  ><"
     ]
    }
   ],
   "source": [
    "print(\"A\",\"D\",\"G\", sep=\")(\", end=\"  <>\")\n",
    "print(\"A\",\"D\",\"G\", sep=\"}{\", end=\"  \\/\")\n",
    "print(\"A\",\"D\",\"G\", sep=\"][\", end=\"  ><\")"
   ]
  },
  {
   "cell_type": "code",
   "execution_count": 31,
   "id": "e60478bc",
   "metadata": {},
   "outputs": [
    {
     "name": "stdout",
     "output_type": "stream",
     "text": [
      "A<><>D<><>G<>"
     ]
    }
   ],
   "source": [
    "print(\"A\",\"D\",\"G\", end=\"<>\",sep=\"<><>\") # I used end 1st then sep"
   ]
  },
  {
   "cell_type": "code",
   "execution_count": 32,
   "id": "af588e0c",
   "metadata": {},
   "outputs": [],
   "source": [
    "user= \"Abdul Rehman Suharwardi\" # A varibale is must have a name and if needed a vaiable can change here we are taking a \n",
    "#name \"user\" and giving it a name of Abdul Rehman if needed we can change Abdul Rehman to Yasir"
   ]
  },
  {
   "cell_type": "code",
   "execution_count": 33,
   "id": "16e24c18",
   "metadata": {},
   "outputs": [
    {
     "name": "stdout",
     "output_type": "stream",
     "text": [
      "Abdul Rehman Suharwardi\n",
      "Abdul Rehman Suharwardi\n",
      "Abdul Rehman Suharwardi\n"
     ]
    }
   ],
   "source": [
    "print(user)\n",
    "print(user)\n",
    "print(user)"
   ]
  },
  {
   "cell_type": "markdown",
   "id": "0ed64ad2",
   "metadata": {},
   "source": [
    "Now we have created a varibale"
   ]
  },
  {
   "cell_type": "code",
   "execution_count": 34,
   "id": "2792fb10",
   "metadata": {},
   "outputs": [
    {
     "name": "stdout",
     "output_type": "stream",
     "text": [
      "Welcome  Abdul Rehman Suharwardi  H B D to you now  43  Year old   Done  B.Com\n"
     ]
    }
   ],
   "source": [
    "name=user# I have used previous variable \"user\"\n",
    "age=43\n",
    "education= \"B.Com\"\n",
    "print (\"Welcome \",name,\" H B D to you now \",age,\" Year old \",\" Done \",education)"
   ]
  },
  {
   "cell_type": "code",
   "execution_count": 35,
   "id": "45c5214b",
   "metadata": {},
   "outputs": [
    {
     "name": "stdout",
     "output_type": "stream",
     "text": [
      "\n",
      "Saylani Mass IT Program\n",
      "Batch - 4 AI and DS\n",
      "Class days: Tue and Fri\n",
      "Time: 7 Pm till 10 Pm\n",
      "Teacher: M Qasim\n",
      "\n"
     ]
    }
   ],
   "source": [
    "card=\"\"\"\n",
    "Saylani Mass IT Program\n",
    "Batch - 4 AI and DS\n",
    "Class days: Tue and Fri\n",
    "Time: 7 Pm till 10 Pm\n",
    "Teacher: M Qasim\n",
    "\"\"\"\n",
    "print(card)"
   ]
  },
  {
   "cell_type": "code",
   "execution_count": 36,
   "id": "76a0c053",
   "metadata": {},
   "outputs": [
    {
     "name": "stdout",
     "output_type": "stream",
     "text": [
      "Welcome to the AI and DS class \n"
     ]
    }
   ],
   "source": [
    "massage=\"Welcome to the AI and DS class \"\n",
    "print(massage)"
   ]
  },
  {
   "cell_type": "code",
   "execution_count": 37,
   "id": "dbe7fcd9",
   "metadata": {},
   "outputs": [
    {
     "name": "stdout",
     "output_type": "stream",
     "text": [
      "Abdul Rehman Suharwardi\n",
      "\n",
      "Saylani Mass IT Program\n",
      "Batch - 4 AI and DS\n",
      "Class days: Tue and Fri\n",
      "Time: 7 Pm till 10 Pm\n",
      "Teacher: M Qasim\n",
      "\n",
      "108\n",
      "<class 'str'>\n",
      "2428569967632\n",
      "['__add__', '__class__', '__contains__', '__delattr__', '__dir__', '__doc__', '__eq__', '__format__', '__ge__', '__getattribute__', '__getitem__', '__getnewargs__', '__gt__', '__hash__', '__init__', '__init_subclass__', '__iter__', '__le__', '__len__', '__lt__', '__mod__', '__mul__', '__ne__', '__new__', '__reduce__', '__reduce_ex__', '__repr__', '__rmod__', '__rmul__', '__setattr__', '__sizeof__', '__str__', '__subclasshook__', 'capitalize', 'casefold', 'center', 'count', 'encode', 'endswith', 'expandtabs', 'find', 'format', 'format_map', 'index', 'isalnum', 'isalpha', 'isascii', 'isdecimal', 'isdigit', 'isidentifier', 'islower', 'isnumeric', 'isprintable', 'isspace', 'istitle', 'isupper', 'join', 'ljust', 'lower', 'lstrip', 'maketrans', 'partition', 'removeprefix', 'removesuffix', 'replace', 'rfind', 'rindex', 'rjust', 'rpartition', 'rsplit', 'rstrip', 'split', 'splitlines', 'startswith', 'strip', 'swapcase', 'title', 'translate', 'upper', 'zfill']\n"
     ]
    }
   ],
   "source": [
    "print(name)\n",
    "print(card)\n",
    "print(len(card))\n",
    "print(type(card))\n",
    "print(id(card))\n",
    "print(dir(card))"
   ]
  },
  {
   "cell_type": "code",
   "execution_count": null,
   "id": "d70c4845",
   "metadata": {},
   "outputs": [],
   "source": []
  }
 ],
 "metadata": {
  "kernelspec": {
   "display_name": "Python 3 (ipykernel)",
   "language": "python",
   "name": "python3"
  },
  "language_info": {
   "codemirror_mode": {
    "name": "ipython",
    "version": 3
   },
   "file_extension": ".py",
   "mimetype": "text/x-python",
   "name": "python",
   "nbconvert_exporter": "python",
   "pygments_lexer": "ipython3",
   "version": "3.9.13"
  }
 },
 "nbformat": 4,
 "nbformat_minor": 5
}
